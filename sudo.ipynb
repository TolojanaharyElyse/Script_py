{
 "cells": [
  {
   "cell_type": "code",
   "execution_count": 73,
   "metadata": {},
   "outputs": [],
   "source": [
    "import numpy as np"
   ]
  },
  {
   "cell_type": "code",
   "execution_count": 74,
   "metadata": {},
   "outputs": [],
   "source": [
    "X=np.array([[0,3,0,4,0,5,0,7,0],\n",
    "            [6,2,0,0,8,0,4,0,0],\n",
    "            [7,0,0,0,0,1,0,0,9],\n",
    "            [2,0,6,5,9,3,8,0,0],\n",
    "            [0,0,0,0,0,0,2,0,3],\n",
    "            [0,1,3,6,0,0,9,5,0],\n",
    "            [0,0,8,0,4,7,0,0,0],\n",
    "            [0,0,0,0,0,0,0,0,6],\n",
    "            [0,0,9,0,5,0,3,8,2]])\n",
    "\n"
   ]
  },
  {
   "cell_type": "code",
   "execution_count": 75,
   "metadata": {},
   "outputs": [],
   "source": [
    "\n",
    "def sete(A):\n",
    "    A=A.ravel()\n",
    "    result =set()\n",
    "    for x in A:\n",
    "        result.add(x)\n",
    "    return result - {0}\n",
    "def colomn_row(A,coord):\n",
    "    return sete(A[ : , coord[1] : coord[1] + 1]) | sete(A[coord[0] : coord[0] + 1 ,  : ])"
   ]
  },
  {
   "cell_type": "code",
   "execution_count": 76,
   "metadata": {},
   "outputs": [],
   "source": [
    "def check_partion(A,coord):\n",
    "    if coord[0] < 3 and  coord[1] < 3:\n",
    "        return A[ :3, :3]\n",
    "    elif coord[0] < 3  and  coord[1] < 6 and  coord[1] >2:\n",
    "        return A[ : 3, 3:6]\n",
    "    elif coord[0] < 3 and  coord[1] < 9 and  coord[1] >5:\n",
    "        return A[ : 3, 6:9]\n",
    "    \n",
    "    elif coord[0] < 6 and coord[0] >2 and  coord[1] < 3:\n",
    "        return A[3 :6, :3]\n",
    "    elif coord[0] < 6  and  coord[0] >2 and  coord[1] < 6 and  coord[1] >2:\n",
    "        return A[3 : 6, 3:6]\n",
    "    elif coord[0] < 6 and coord[0] > 2 and  coord[1] < 9 and  coord[1] >5:\n",
    "        return A[3 : 6, 6:9]\n",
    "    \n",
    "    elif coord[0] < 9 and coord[0] >5 and  coord[1] < 3:\n",
    "        return A[6 :9, :3]\n",
    "    elif coord[0] < 9  and  coord[0] >5 and  coord[1] < 6 and  coord[1] >2:\n",
    "        return A[6 : 9, 3:6]\n",
    "    else:\n",
    "        return A[6 : 9, 6:9]\n",
    "\n",
    "    "
   ]
  },
  {
   "cell_type": "code",
   "execution_count": 77,
   "metadata": {},
   "outputs": [
    {
     "data": {
      "text/plain": [
       "array([[9, 3, 1, 4, 2, 5, 6, 7, 8],\n",
       "       [6, 2, 5, 7, 8, 9, 4, 3, 1],\n",
       "       [7, 8, 4, 3, 6, 1, 5, 2, 9],\n",
       "       [2, 4, 6, 5, 9, 3, 8, 1, 7],\n",
       "       [5, 9, 7, 8, 1, 4, 2, 6, 3],\n",
       "       [8, 1, 3, 6, 7, 2, 9, 5, 4],\n",
       "       [3, 6, 8, 2, 4, 7, 1, 9, 5],\n",
       "       [1, 5, 2, 9, 3, 8, 7, 4, 6],\n",
       "       [4, 7, 9, 1, 5, 6, 3, 8, 2]])"
      ]
     },
     "execution_count": 77,
     "metadata": {},
     "output_type": "execute_result"
    }
   ],
   "source": [
    "memo={}\n",
    "\n",
    "def recursion(X,value):\n",
    "    global memo\n",
    "    for coord,valpos in memo.items():\n",
    "        if value in valpos:\n",
    "            valpos.remove(value)\n",
    "            if len(valpos) == 1:\n",
    "                for x in valpos:\n",
    "                    X[coord[0]][coord[1]] = x\n",
    "                    # memo.pop(coord)\n",
    "                recursion(X,x)\n",
    "\n",
    "def sodukoResult(V):\n",
    "    X = V.copy()\n",
    "    global memo\n",
    "    for i in range(9):\n",
    "        for j in range(9):\n",
    "            domaine={i for i in range(1,10)}\n",
    "            if X[i][j] == 0:\n",
    "                valuePossible =domaine - (colomn_row(X,(i,j)) | sete(check_partion(X,(i,j))))\n",
    "                if len(valuePossible) == 1:\n",
    "                    tmp = 0\n",
    "                    for x in valuePossible:\n",
    "                        tmp=x\n",
    "                        X[i][j] = x\n",
    "                    recursion(X,tmp)\n",
    "                else:\n",
    "                    memo[(i,j)] = list(valuePossible)\n",
    "    for i in range(9):\n",
    "        if len(sete(X[ : ,i:i+1])) != 9 | len(sete(X[ i:i+1 , : ])) != 9 :\n",
    "            X=V.copy()\n",
    "            sodukoResult(X)\n",
    "    return X\n",
    "sodukoResult(X)\n"
   ]
  },
  {
   "cell_type": "code",
   "execution_count": 78,
   "metadata": {},
   "outputs": [],
   "source": [
    "Y=np.array([[0,3,0,4,0,5,0,7,0],\n",
    "            [6,2,0,0,8,0,4,0,0],\n",
    "            [7,0,0,0,0,1,0,0,9],\n",
    "            [2,0,6,0,0,3,8,0,0],\n",
    "            [0,0,0,0,0,0,2,0,3],\n",
    "            [0,1,3,6,0,0,9,5,4],\n",
    "            [0,0,8,0,4,7,0,0,5],\n",
    "            [0,0,0,0,0,0,0,0,6],\n",
    "            [0,0,9,0,5,0,3,8,2]])"
   ]
  },
  {
   "cell_type": "code",
   "execution_count": 79,
   "metadata": {},
   "outputs": [
    {
     "data": {
      "text/plain": [
       "array([[9, 3, 1, 4, 2, 5, 6, 7, 8],\n",
       "       [6, 2, 5, 7, 8, 9, 4, 3, 1],\n",
       "       [7, 8, 4, 3, 6, 1, 5, 2, 9],\n",
       "       [2, 4, 6, 5, 9, 3, 8, 1, 7],\n",
       "       [5, 9, 7, 8, 1, 4, 2, 6, 3],\n",
       "       [8, 1, 3, 6, 7, 2, 9, 5, 4],\n",
       "       [3, 6, 8, 2, 4, 7, 1, 9, 5],\n",
       "       [1, 5, 2, 9, 3, 8, 7, 4, 6],\n",
       "       [4, 7, 9, 1, 5, 6, 3, 8, 2]])"
      ]
     },
     "execution_count": 79,
     "metadata": {},
     "output_type": "execute_result"
    }
   ],
   "source": [
    "sodukoResult(Y)"
   ]
  },
  {
   "cell_type": "code",
   "execution_count": null,
   "metadata": {},
   "outputs": [],
   "source": []
  },
  {
   "cell_type": "code",
   "execution_count": null,
   "metadata": {},
   "outputs": [],
   "source": []
  },
  {
   "cell_type": "code",
   "execution_count": null,
   "metadata": {},
   "outputs": [],
   "source": []
  }
 ],
 "metadata": {
  "kernelspec": {
   "display_name": "base",
   "language": "python",
   "name": "python3"
  },
  "language_info": {
   "codemirror_mode": {
    "name": "ipython",
    "version": 3
   },
   "file_extension": ".py",
   "mimetype": "text/x-python",
   "name": "python",
   "nbconvert_exporter": "python",
   "pygments_lexer": "ipython3",
   "version": "3.12.4"
  }
 },
 "nbformat": 4,
 "nbformat_minor": 2
}
