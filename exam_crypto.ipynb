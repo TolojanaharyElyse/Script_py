{
 "cells": [
  {
   "cell_type": "code",
   "execution_count": 8,
   "metadata": {},
   "outputs": [],
   "source": [
    "from sympy import  factorint\n",
    "import math,string,random\n",
    "import numpy as np"
   ]
  },
  {
   "cell_type": "code",
   "execution_count": 12,
   "metadata": {},
   "outputs": [],
   "source": [
    "# u must be great than v\n",
    "def EuclideEtendu(u,v):\n",
    "    liste1 = [u,1,0]\n",
    "    liste2= [v , 0,1]    \n",
    "    while liste2[0]:\n",
    "        q,r = divmod(liste1[0],liste2[0])\n",
    "        tmp_list = liste2.copy()\n",
    "        liste2[0],liste2[1],liste2[2] = r ,liste1[1] -q*tmp_list[1] ,liste1[2] -q*tmp_list[2]\n",
    "        liste1 = tmp_list.copy()\n",
    "    return liste1[0],liste1[1],liste1[2]\n",
    "\n",
    "def inverse(max, min):\n",
    "    _,_, v = EuclideEtendu(max, min) \n",
    "    if v < 0:\n",
    "        return v + max\n",
    "    return v\n",
    "\n",
    "     "
   ]
  },
  {
   "cell_type": "code",
   "execution_count": 13,
   "metadata": {},
   "outputs": [],
   "source": [
    "# liste = [(a,n),(b,m)] avec pgcd(m,n) = 1\n",
    "def restChinoi_1(liste):\n",
    "    n ,m= liste[0][1] ,liste[1][1]\n",
    "    mn = m * n\n",
    "    _,nombre_1 , nombre_2 = EuclideEtendu(m,n)\n",
    "    return (m*nombre_1*liste[0][0] + n * nombre_2*liste[1][0]) % mn\n",
    "\n",
    "\n",
    "\n",
    "# liste = [(a_i,m_i) ,( , ), . . .] avec pgcd(m_i,j_j) = 1 pour tout j\n",
    "def restChinoi_2(liste):\n",
    "    while len( liste ) != 2:\n",
    "        M= liste [0][1]*liste[1][1]\n",
    "        tmp_liste = [liste[0] , liste[1]]\n",
    "        c = restChinoi_1(tmp_liste) % M\n",
    "        liste = liste[2:]\n",
    "        liste= [(c,M)] + liste \n",
    "    tmp_list = [liste[0] , liste[1]]\n",
    "    return restChinoi_1(tmp_list)"
   ]
  },
  {
   "cell_type": "code",
   "execution_count": 14,
   "metadata": {},
   "outputs": [],
   "source": [
    "def pohlig_hellman1(g, h, p, n):\n",
    "    # Factorisation de n\n",
    "    factors = factorint(n) \n",
    "    \n",
    "    # Résolution modulaire pour chaque facteur premier\n",
    "    x_list = []\n",
    "    moduli = []\n",
    "    \n",
    "    for q, e in factors.items():\n",
    "        q_e = q ** e\n",
    "        g_q = pow(g, n // q_e, p)  # g^(n / q^e) mod p\n",
    "        h_q = pow(h, n // q_e, p)  # h^(n / q^e) mod p\n",
    "        \n",
    "        # Résolution dans le sous-groupe d'ordre q^e\n",
    "        x_q = solve_baby_step_giant_step(g_q, h_q, q_e, p)\n",
    "        x_list.append(x_q)\n",
    "        moduli.append(q_e)\n",
    "    \n",
    "    # Reconstruction de x avec le théorème des restes chinois\n",
    "    liste= [(u,y) for u,y in zip(x_list,moduli)]\n",
    "    x = restChinoi_2(liste)\n",
    "    \n",
    "    return x\n",
    "# Algorithme Baby-step Giant-step pour résoudre g^x ≡ h mod p\n",
    "# param n: Ordre du groupe\n",
    "def solve_baby_step_giant_step(g, h, n, p):\n",
    "    \n",
    "    m = int(math.ceil(math.sqrt(n)))\n",
    "    table= {} # Calcul des baby steps\n",
    "    for j in range(m):\n",
    "        value = pow(g, j, p)\n",
    "        table[value] = j\n",
    "\n",
    "    # Calcul des giant steps\n",
    "    g_inv_m = pow(g, -m, p) \n",
    "    gamma = h\n",
    "    for i in range(m):\n",
    "        if gamma in table:\n",
    "            return i * m + table[gamma]\n",
    "        gamma = (gamma * g_inv_m) % p\n",
    "\n",
    "    raise ValueError(\"Logarithme discret non trouvé.\")\n",
    "\n"
   ]
  },
  {
   "cell_type": "code",
   "execution_count": 15,
   "metadata": {},
   "outputs": [],
   "source": [
    "def decodage(message_):\n",
    "    cle_de_decodage={str(x + 1):string.printable[x] for x in range(10,36)}\n",
    "    cle_de_decodage['42']=\"'\"\n",
    "    cle_de_decodage['43']=\".\"\n",
    "    cle_de_decodage['44']=\",\"\n",
    "    cle_de_decodage['45']=\"?\"\n",
    "    message_= str(message_)\n",
    "    result=''\n",
    "    for i in range(len(message_)//2):\n",
    "        if not message_[2*i:2*i+2] in cle_de_decodage.keys():\n",
    "            result = result + ' '\n",
    "        else:\n",
    "            result = result + cle_de_decodage[message_[2*i:2*i+2]]\n",
    "    return result"
   ]
  },
  {
   "cell_type": "code",
   "execution_count": 42,
   "metadata": {},
   "outputs": [],
   "source": [
    "def Decriptage_El_Gamal(message_cripte,p,a):\n",
    "    u,v =message_cripte[0],message_cripte[1]\n",
    "    return (v*pow(inverse(p,u) ,a))% p"
   ]
  },
  {
   "cell_type": "markdown",
   "metadata": {},
   "source": [
    "## Exercice 2 : "
   ]
  },
  {
   "cell_type": "code",
   "execution_count": 39,
   "metadata": {},
   "outputs": [
    {
     "data": {
      "text/plain": [
       "39337370770196487501"
      ]
     },
     "execution_count": 39,
     "metadata": {},
     "output_type": "execute_result"
    }
   ],
   "source": [
    "p=112211293740262525327\n",
    "gA=2014\n",
    "gB=2022\n",
    "pohlig_hellman1(3,gA,p,p-1)\n"
   ]
  },
  {
   "cell_type": "markdown",
   "metadata": {},
   "source": [
    "## Exercice 3: Decodage de message d'Alice"
   ]
  },
  {
   "cell_type": "code",
   "execution_count": 45,
   "metadata": {},
   "outputs": [],
   "source": [
    "\n",
    "message=[[83025882561049910713,66740266984208729661],[117087132399404660932,44242256035307267278],[67508282043396028407,77559274822593376192],[60938739831689454113,14528504156719159785],[5059840044561914427,59498668430421643612],[92232942954165956522,105988641027327945219],[97102226574752360229,46166643538418294423]]\n",
    "p=123456789987654353003\n",
    "g=123456789\n",
    "gA=52808579942366933355\n",
    "gB=39318628345168608817\n",
    "key = (p,g,gB,p)\n",
    "\n",
    "message = [(message[i][0],message[i][1]) for i in range(len(message))]"
   ]
  },
  {
   "cell_type": "code",
   "execution_count": 44,
   "metadata": {},
   "outputs": [],
   "source": [
    "a=pohlig_hellman1(g,gB,p,p-1)"
   ]
  },
  {
   "cell_type": "markdown",
   "metadata": {},
   "source": [
    "### Message :"
   ]
  },
  {
   "cell_type": "code",
   "execution_count": 48,
   "metadata": {},
   "outputs": [
    {
     "name": "stdout",
     "output_type": "stream",
     "text": [
      "in galois fields, full of flowers, primitive elements dance for hours.\n"
     ]
    }
   ],
   "source": [
    "\n",
    "message_=''\n",
    "for mes in message:\n",
    "    message_= message_ + decodage(Decriptage_El_Gamal(mes,p,a))\n",
    "\n",
    "print(message_)"
   ]
  },
  {
   "cell_type": "code",
   "execution_count": null,
   "metadata": {},
   "outputs": [],
   "source": []
  },
  {
   "cell_type": "markdown",
   "metadata": {},
   "source": [
    "# Exercice 4:"
   ]
  },
  {
   "cell_type": "code",
   "execution_count": 2,
   "metadata": {},
   "outputs": [],
   "source": [
    "def Miller_Rabin(n,temoin):\n",
    "    m=n\n",
    "    if n % 2 == 0:\n",
    "        return False\n",
    "    n=n-1\n",
    "    inc = 0\n",
    "    while n % 2 ==0:\n",
    "        n= n // 2\n",
    "        inc +=1\n",
    "    reste=int(n)\n",
    "    result= pow(temoin,reste,m)\n",
    "    if result == 1 or result == m -1:\n",
    "        return True\n",
    "    for _ in range(inc):\n",
    "        result=pow(result,2,m)\n",
    "        if result == m-1:\n",
    "            return True\n",
    "    return False\n",
    "\n",
    "\n",
    "def Miller_Rabin_repeated(nombre,repetition):\n",
    "    for _ in range(repetition):\n",
    "        temoin=random.randint(2,nombre-1)\n",
    "        if not Miller_Rabin(nombre,temoin):\n",
    "            return False\n",
    "    return True"
   ]
  },
  {
   "cell_type": "code",
   "execution_count": 25,
   "metadata": {},
   "outputs": [],
   "source": [
    "def Safe_prime(n):\n",
    "    x=pow(2,n)\n",
    "    # y0=(x-int(pow((math.log(x)),2)))/2*int(pow(math.log(x),2))\n",
    "    y0 = (x - int(pow(math.log(x),2)))//(2*(int(pow(math.log(x),2))))\n",
    "    y1=int(pow(2,n-1) -1)\n",
    "    while True:\n",
    "        l=random.randint(y0,y1)\n",
    "        if  Miller_Rabin_repeated(l,5) and Miller_Rabin_repeated(2*l + 1,5):\n",
    "            return 2*l + 1\n",
    "        for j in range(int(n/4),int(n/2)):\n",
    "            l1=random.randint(pow(2,j) +1,pow(2,j+1))\n",
    "            l2=random.randint(int(y0/l1),int(y1/l1) +1)\n",
    "            if Miller_Rabin_repeated(l1,5) and Miller_Rabin_repeated(l2,5) and Miller_Rabin_repeated(2*l1*l2 +1,5) :\n",
    "                return 2*l1*l2 + 1"
   ]
  },
  {
   "cell_type": "markdown",
   "metadata": {},
   "source": [
    "## Safe prime:"
   ]
  },
  {
   "cell_type": "code",
   "execution_count": 26,
   "metadata": {},
   "outputs": [],
   "source": [
    "prime = Safe_prime(1330)"
   ]
  },
  {
   "cell_type": "code",
   "execution_count": 27,
   "metadata": {},
   "outputs": [
    {
     "data": {
      "text/plain": [
       "6663375793016645420425836919425834275219728969140910373873486641041912664035407129496687306021138724560332119898948805231749704212061513770567728893853360680943718189622298771800575754674623313035572350286590432033965769301458205111083065217667648260153367524892401577416802565708642234283443398334305538027584606060394109260290444609902213919254912137985427974607573755142346405129333108238107405819"
      ]
     },
     "execution_count": 27,
     "metadata": {},
     "output_type": "execute_result"
    }
   ],
   "source": [
    "prime"
   ]
  },
  {
   "cell_type": "code",
   "execution_count": 34,
   "metadata": {},
   "outputs": [],
   "source": [
    "def find_generator(p): # p est un nombre premier\n",
    "    n=p-1\n",
    "    inc = 0\n",
    "    while n % 2 ==0:\n",
    "        n= n // 2\n",
    "        inc +=1\n",
    "    reste=int(n)\n",
    "    generator = random.randint(2,p-1)\n",
    "    while pow(generator,(p-1)//2,p)==1 and pow(generator,(p-1) // reste, p) == 1:\n",
    "        generator = random.randint(2,p-1)\n",
    "    return generator"
   ]
  },
  {
   "cell_type": "code",
   "execution_count": 37,
   "metadata": {},
   "outputs": [
    {
     "data": {
      "text/plain": [
       "37094259169674586858018907083307942132401152939191201659282016329640609892521764312029846447969374860491183636605163843104705645485634127401000162866691449026734526615470215115187569085778736199006488302566889261856310089214527370633087167178003952424162044691593180157815992138969576812138508244193629758187579007278654035911233303176013685269394782986428068712036790963214998480509261548872388214"
      ]
     },
     "execution_count": 37,
     "metadata": {},
     "output_type": "execute_result"
    }
   ],
   "source": [
    "generator=find_generator(prime)\n",
    "generator"
   ]
  },
  {
   "cell_type": "code",
   "execution_count": 31,
   "metadata": {},
   "outputs": [],
   "source": [
    "def find_keys(generator,p):\n",
    "    cle_prive = random.randint(2,p-2)\n",
    "    cle_publique = pow(generator,cle_prive,p)\n",
    "\n",
    "    return cle_prive ,cle_publique\n",
    "    "
   ]
  },
  {
   "cell_type": "markdown",
   "metadata": {},
   "source": [
    "# Cle privé:\n",
    "$a = 4191900185582565814551051166790932236137481238407438825905515618064726614909149595960339352433303679462574213612937174254562176638851706565375337481392895213843621698445931735479363685816345999117858467775882165356442229550927011950073952878897172797622905504833919869355333345765883820056005841927989378669743042286551893341013996519197540040403815898897832871042031407936151984378563390576318022141$\n"
   ]
  },
  {
   "cell_type": "code",
   "execution_count": 40,
   "metadata": {},
   "outputs": [
    {
     "data": {
      "text/plain": [
       "4191900185582565814551051166790932236137481238407438825905515618064726614909149595960339352433303679462574213612937174254562176638851706565375337481392895213843621698445931735479363685816345999117858467775882165356442229550927011950073952878897172797622905504833919869355333345765883820056005841927989378669743042286551893341013996519197540040403815898897832871042031407936151984378563390576318022141"
      ]
     },
     "execution_count": 40,
     "metadata": {},
     "output_type": "execute_result"
    }
   ],
   "source": [
    "find_keys(generator,prime)[0]"
   ]
  },
  {
   "cell_type": "code",
   "execution_count": null,
   "metadata": {},
   "outputs": [],
   "source": []
  },
  {
   "cell_type": "markdown",
   "metadata": {},
   "source": [
    "# Cle publique  :\n",
    "- $G = \\mathbb{(Z/qZ)}$  avec $q=666337579301664542042583691942583427521972896914091037387348664104191266403540712949668730602113872456033211989894880523174970421206151377056772889385336\n",
    "0680943718189622298771800575754674623313035572350286590432033965769301458205111083065217667648260153367524892401577416802565708642234283443398334305538027584606060394109260290444609902213919254912137985427974607573755142346405129333108238107405819$\n",
    "\n",
    "- $g = 37094259169674586858018907083307942132401152939191201659282016329640609892521764312029846447969374860491183636605163843104705645485634127401000162866691449026734526615470215115187569085778736199006488302566889261856310089214527370633087167178003952424162044691593180157815992138969576812138508244193629758187579007278654035911233303176013685269394782986428068712036790963214998480509261548872388214$\n",
    "\n",
    "- $g^{a} =1632884228264797632916577868616196352915683373377000478262320888184668115666712088058353672761653089446548139746061510280646142444578470409634096094501741387315300179542537613580783630762088718142152488570370890474818446728591551750204002032975412317437738514839591138996263395105205316794115952950778057328493689233611558640806340317679221358686004251327486417054900505800123218074007350006083966952$"
   ]
  },
  {
   "cell_type": "code",
   "execution_count": 39,
   "metadata": {},
   "outputs": [
    {
     "data": {
      "text/plain": [
       "1632884228264797632916577868616196352915683373377000478262320888184668115666712088058353672761653089446548139746061510280646142444578470409634096094501741387315300179542537613580783630762088718142152488570370890474818446728591551750204002032975412317437738514839591138996263395105205316794115952950778057328493689233611558640806340317679221358686004251327486417054900505800123218074007350006083966952"
      ]
     },
     "execution_count": 39,
     "metadata": {},
     "output_type": "execute_result"
    }
   ],
   "source": [
    "find_keys(generator,prime)[1]"
   ]
  },
  {
   "cell_type": "code",
   "execution_count": null,
   "metadata": {},
   "outputs": [],
   "source": []
  }
 ],
 "metadata": {
  "kernelspec": {
   "display_name": "base",
   "language": "python",
   "name": "python3"
  },
  "language_info": {
   "codemirror_mode": {
    "name": "ipython",
    "version": 3
   },
   "file_extension": ".py",
   "mimetype": "text/x-python",
   "name": "python",
   "nbconvert_exporter": "python",
   "pygments_lexer": "ipython3",
   "version": "3.12.7"
  }
 },
 "nbformat": 4,
 "nbformat_minor": 2
}
